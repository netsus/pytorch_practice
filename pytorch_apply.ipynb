{
 "cells": [
  {
   "cell_type": "markdown",
   "id": "1466e4be",
   "metadata": {},
   "source": [
    "## 도큐먼트 예시"
   ]
  },
  {
   "cell_type": "code",
   "execution_count": 5,
   "id": "755dd2db",
   "metadata": {
    "ExecuteTime": {
     "end_time": "2022-10-17T14:24:39.588178Z",
     "start_time": "2022-10-17T14:24:39.566248Z"
    }
   },
   "outputs": [
    {
     "name": "stdout",
     "output_type": "stream",
     "text": [
      "Linear(in_features=2, out_features=2, bias=True)\n",
      "Parameter containing:\n",
      "tensor([[1., 1.],\n",
      "        [1., 1.]], requires_grad=True)\n",
      "Linear(in_features=2, out_features=2, bias=True)\n",
      "Parameter containing:\n",
      "tensor([[1., 1.],\n",
      "        [1., 1.]], requires_grad=True)\n",
      "Sequential(\n",
      "  (0): Linear(in_features=2, out_features=2, bias=True)\n",
      "  (1): Linear(in_features=2, out_features=2, bias=True)\n",
      ")\n"
     ]
    },
    {
     "data": {
      "text/plain": [
       "Sequential(\n",
       "  (0): Linear(in_features=2, out_features=2, bias=True)\n",
       "  (1): Linear(in_features=2, out_features=2, bias=True)\n",
       ")"
      ]
     },
     "execution_count": 5,
     "metadata": {},
     "output_type": "execute_result"
    }
   ],
   "source": [
    "@torch.no_grad()\n",
    "def init_weights(m):\n",
    "    print(m)\n",
    "    if type(m) == nn.Linear:\n",
    "        m.weight.fill_(1.0)\n",
    "        print(m.weight)\n",
    "net = nn.Sequential(nn.Linear(2, 2), nn.Linear(2, 2))\n",
    "net.apply(init_weights)"
   ]
  },
  {
   "cell_type": "markdown",
   "id": "3768e475",
   "metadata": {},
   "source": [
    "## 쉬운 예시"
   ]
  },
  {
   "cell_type": "code",
   "execution_count": 9,
   "id": "dbe210b7",
   "metadata": {
    "ExecuteTime": {
     "end_time": "2022-10-17T14:31:26.873171Z",
     "start_time": "2022-10-17T14:31:26.864277Z"
    }
   },
   "outputs": [],
   "source": [
    "import torch\n",
    "from torch import nn\n",
    "\n",
    "class Layer(nn.Module):\n",
    "    def __init__(self):\n",
    "        super().__init__()\n",
    "\n",
    "    def forward(self, x):\n",
    "        return f\"Layer({x})\"\n",
    "\n",
    "# Model\n",
    "class Model(nn.Module):\n",
    "    def __init__(self):\n",
    "        super().__init__()\n",
    "        self.layer = Layer()\n",
    "\n",
    "    def forward(self, x):\n",
    "        x = self.layer(x)\n",
    "        return f\"Model({x})\"\n",
    "\n",
    "model = Model()"
   ]
  },
  {
   "cell_type": "code",
   "execution_count": 10,
   "id": "6f19ce9e",
   "metadata": {
    "ExecuteTime": {
     "end_time": "2022-10-17T14:31:27.116092Z",
     "start_time": "2022-10-17T14:31:27.107154Z"
    }
   },
   "outputs": [
    {
     "name": "stdout",
     "output_type": "stream",
     "text": [
      "Layer()\n",
      "------------------------------\n",
      "Model(\n",
      "  (layer): Layer()\n",
      ")\n",
      "------------------------------\n"
     ]
    }
   ],
   "source": [
    "def print_module(module):\n",
    "    print(module)\n",
    "    print(\"-\" * 30)\n",
    "\n",
    "# 🦆 apply는 apply가 적용된 module을 return 해줘요!\n",
    "returned_module = model.apply(print_module)"
   ]
  },
  {
   "cell_type": "code",
   "execution_count": 11,
   "id": "c6be0dfc",
   "metadata": {
    "ExecuteTime": {
     "end_time": "2022-10-17T14:31:27.642769Z",
     "start_time": "2022-10-17T14:31:27.634087Z"
    }
   },
   "outputs": [
    {
     "data": {
      "text/plain": [
       "'Model(Layer(호))'"
      ]
     },
     "execution_count": 11,
     "metadata": {},
     "output_type": "execute_result"
    }
   ],
   "source": [
    "returned_module(\"호\")"
   ]
  },
  {
   "cell_type": "code",
   "execution_count": null,
   "id": "c97c32b6",
   "metadata": {},
   "outputs": [],
   "source": []
  }
 ],
 "metadata": {
  "kernelspec": {
   "display_name": "Python 3",
   "language": "python",
   "name": "python3"
  },
  "language_info": {
   "codemirror_mode": {
    "name": "ipython",
    "version": 3
   },
   "file_extension": ".py",
   "mimetype": "text/x-python",
   "name": "python",
   "nbconvert_exporter": "python",
   "pygments_lexer": "ipython3",
   "version": "3.8.12"
  },
  "toc": {
   "base_numbering": 1,
   "nav_menu": {},
   "number_sections": false,
   "sideBar": true,
   "skip_h1_title": false,
   "title_cell": "Table of Contents",
   "title_sidebar": "Contents",
   "toc_cell": false,
   "toc_position": {},
   "toc_section_display": true,
   "toc_window_display": false
  }
 },
 "nbformat": 4,
 "nbformat_minor": 5
}
